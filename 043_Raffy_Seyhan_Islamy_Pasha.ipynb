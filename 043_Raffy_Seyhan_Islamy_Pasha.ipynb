{
  "nbformat": 4,
  "nbformat_minor": 0,
  "metadata": {
    "colab": {
      "provenance": []
    },
    "kernelspec": {
      "name": "python3",
      "display_name": "Python 3"
    },
    "language_info": {
      "name": "python"
    }
  },
  "cells": [
    {
      "cell_type": "markdown",
      "source": [
        "#**Business Understanding**"
      ],
      "metadata": {
        "id": "WNxsghtxVwsp"
      }
    },
    {
      "cell_type": "markdown",
      "source": [
        "##**Business Objective**"
      ],
      "metadata": {
        "id": "b0PG6jDhV9cg"
      }
    },
    {
      "cell_type": "markdown",
      "source": [
        "Proyek ini bertujuan untuk memahami faktor-faktor yang memengaruhi harga produk pakaian dalam industri ritel, seperti merek, kategori, ukuran, warna, dan bahan. Tujuan utamanya adalah membantu perusahaan mengambil keputusan strategis, seperti menetapkan harga, mengidentifikasi tren pasar, atau merancang produk baru. Dengan produk dan harga, perusahaan dapat membuat strategi penetapan harga, meningkatkan efisiensi produksi, dan mengembangkan produk. Misalnya, apakah produk dari merek tertentu cenderung lebih mahal? Atau apakah bahan tertentu memengaruhi harga secara signifikan?"
      ],
      "metadata": {
        "id": "ITitKYuvWzQS"
      }
    },
    {
      "cell_type": "markdown",
      "source": [
        "##**Assess Situation**"
      ],
      "metadata": {
        "id": "i5W2ejcJWQqa"
      }
    },
    {
      "cell_type": "markdown",
      "source": [
        "Industri fashion adalah pasar yang sangat berkembang, di mana minat konsumen, tren material, dan persaingan antar merek terus berubah. Perusahaan menghadapi tantangan dalam menyeimbangkan biaya produksi dengan harga jual agar produk tetap menguntungkan namun terjangkau. Selain itu, perusahaan juga perlu mengidentifikasi peluang pasar, seperti kategori produk yang kurang tersedia tetapi banyak diminati. Analisis ini akan membantu perusahaan tetap kompetitif dengan memahami bagaimana atribut produk (seperti merek, kategori, atau bahan) berkontribusi terhadap harga, sehingga mereka bisa mengambil keputusan yang lebih tepat dalam pengembangan produk dan pemasaran."
      ],
      "metadata": {
        "id": "i7avyb-gXjYJ"
      }
    },
    {
      "cell_type": "markdown",
      "source": [
        "##**Data Mining Goals**"
      ],
      "metadata": {
        "id": "vyhxodylWVLt"
      }
    },
    {
      "cell_type": "markdown",
      "source": [
        "Analisis data ini memiliki empat tujuan utama. Pertama, mengidentifikasi pola hubungan antara atribut produk (merek, kategori, ukuran, warna, bahan) dengan harga. Contohnya, apakah produk dari merek \"Nike\" memiliki harga rata-rata lebih tinggi dibanding merek lain? Kedua, membedakan produk dengan mengelompokkannya berdasarkan karakteristik tertentu, seperti produk \"premium\" (harga tinggi) atau \"ekonomis\" (harga rendah). Ketiga, memprediksi harga yang dapat memperkirakan nilai jual suatu produk. Misalnya, berapa harga yang wajar untuk jaket warna merah berbahan polyester ukuran M? Keempat, menganalisis tren material dan warna yang paling diminati atau memberikan keuntungan tertinggi."
      ],
      "metadata": {
        "id": "x_xPy0NRXleE"
      }
    },
    {
      "cell_type": "markdown",
      "source": [
        "##**Project Plan**"
      ],
      "metadata": {
        "id": "BPiKS6I0W5-k"
      }
    },
    {
      "cell_type": "markdown",
      "source": [
        "yang pertama kita lakukan adalah menganalisis data, dan data yang kita analisis akan kita ubah menjadi strategi bisnis, dengan cara menetapkan harga sesuai hasil analisis, membuat inovasi produk berdasarkan tren bentuk, material, warna yang sedang laku di pasaran, melakukan optimasi biaya produksi dan melakukan evaluasi secara berkala"
      ],
      "metadata": {
        "id": "EC-JlAn9XnXw"
      }
    }
  ]
}